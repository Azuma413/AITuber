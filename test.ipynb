{
 "cells": [
  {
   "cell_type": "markdown",
   "metadata": {},
   "source": [
    "Anaconda: ai_tuber\n",
    "```\n",
    "conda activate ai_tuber\n",
    "```"
   ]
  },
  {
   "cell_type": "markdown",
   "metadata": {},
   "source": [
    "# Test1\n",
    "LangChainでマルチエージェントシステムを作る基礎的な評価\n",
    "```\n",
    "pip install langchain\n",
    "pip install langchain_openai\n",
    "pip install langchain_google_genai\n",
    "pip install langgraph\n",
    "pip install google-generativeai\n",
    "pip install python-dotenv\n",
    "pip install browser-use\n",
    "playwright install\n",
    "pip install langchain_community\n",
    "pip install langchain_chroma\n",
    "\n",
    "\n",
    "winget install Microsoft.VisualStudio.2022.BuildTools\n",
    "pip install chromadb\n",
    "```"
   ]
  },
  {
   "cell_type": "code",
   "execution_count": null,
   "metadata": {},
   "outputs": [
    {
     "name": "stderr",
     "output_type": "stream",
     "text": [
      "c:\\Users\\hirek\\anaconda3\\envs\\ai_tuber\\Lib\\site-packages\\tqdm\\auto.py:21: TqdmWarning: IProgress not found. Please update jupyter and ipywidgets. See https://ipywidgets.readthedocs.io/en/stable/user_install.html\n",
      "  from .autonotebook import tqdm as notebook_tqdm\n"
     ]
    },
    {
     "name": "stdout",
     "output_type": "stream",
     "text": [
      "ユーザーは文章の誤字脱字の修正を求めている。\n",
      "提示された文章は「こんんんちわ、真純です。」。\n",
      "明らかな誤字は「こんんんちわ」の部分。\n",
      "正しくは「こんにちは」である。\n",
      "句読点や名前の部分に誤りはない。\n"
     ]
    }
   ],
   "source": [
    "from dotenv import load_dotenv\n",
    "load_dotenv()\n",
    "from langchain_google_genai import ChatGoogleGenerativeAI\n",
    "from langchain_openai import ChatOpenAI\n",
    "from langchain_core.output_parsers import StrOutputParser\n",
    "from langchain_core.prompts import ChatPromptTemplate\n",
    "\n",
    "# テンプレート文章を定義し、プロンプトを作成\n",
    "prompt = ChatPromptTemplate.from_messages([\n",
    "    (\"system\", \"あなたは優秀な校正者です。\"),\n",
    "    (\"user\", \"次の文章に誤字があれば訂正してください。\\n{sentences_before_check}\")\n",
    "])\n",
    "\n",
    "llm = ChatGoogleGenerativeAI(model=\"gemini-2.0-flash-thinking-exp-1219\", temperature=0.7)\n",
    "\n",
    "# OpenAIのAPIにこのプロンプトを送信するためのチェーンを作成\n",
    "chain = prompt | llm | StrOutputParser()\n",
    "\n",
    "# チェーンを実行し、結果を表示\n",
    "print(chain.invoke({\"sentences_before_check\": \"こんんんちわ、真純です。\"}))"
   ]
  },
  {
   "cell_type": "code",
   "execution_count": 3,
   "metadata": {},
   "outputs": [
    {
     "name": "stdout",
     "output_type": "stream",
     "text": [
      "System: 命令：以下のフォーマットで回答を作成してください。\n",
      "\n",
      "        # 回答\n",
      "        sorted()関数または.sort()メソッドを使用します\n",
      "\n",
      "        ## 理由\n",
      "        - sorted()は新しいリストを返します\n",
      "- .sort()は元のリストを変更します\n",
      "\n",
      "        ## コード例（必要な場合）\n",
      "        ```python\n",
      "        numbers = [3, 1, 4, 1, 5]\n",
      "sorted_numbers = sorted(numbers)  # 新しいリスト\n",
      "numbers.sort()  # 元のリストを変更\n",
      "        ```\n",
      "        \n",
      "Human: pythonでリストをソートするには？\n"
     ]
    }
   ],
   "source": [
    "from langchain.prompts import ChatPromptTemplate, SystemMessagePromptTemplate, HumanMessagePromptTemplate\n",
    "from langchain.schema import HumanMessage, SystemMessage\n",
    "\n",
    "# チャットテンプレートの定義\n",
    "template = ChatPromptTemplate.from_messages([\n",
    "    SystemMessagePromptTemplate.from_template(\n",
    "        \"\"\"命令：以下のフォーマットで回答を作成してください。\n",
    "\n",
    "        # 回答\n",
    "        {answer}\n",
    "\n",
    "        ## 理由\n",
    "        {explanation}\n",
    "\n",
    "        ## コード例（必要な場合）\n",
    "        ```python\n",
    "        {code_example}\n",
    "        ```\n",
    "        \"\"\"\n",
    "    ),\n",
    "    HumanMessagePromptTemplate.from_template(\"{question}\")\n",
    "])\n",
    "\n",
    "# フォーマット済みプロンプトの生成\n",
    "formatted_prompt = template.format(\n",
    "    question=\"pythonでリストをソートするには？\",\n",
    "    answer=\"sorted()関数または.sort()メソッドを使用します\",\n",
    "    explanation=\"- sorted()は新しいリストを返します\\n- .sort()は元のリストを変更します\",\n",
    "    code_example=\"numbers = [3, 1, 4, 1, 5]\\nsorted_numbers = sorted(numbers)  # 新しいリスト\\nnumbers.sort()  # 元のリストを変更\"\n",
    ")\n",
    "\n",
    "# 生成されたメッセージの確認\n",
    "print(formatted_prompt)"
   ]
  },
  {
   "cell_type": "code",
   "execution_count": 11,
   "metadata": {},
   "outputs": [
    {
     "name": "stdout",
     "output_type": "stream",
     "text": [
      "\u001b[36;1m\u001b[1;3m[-1:checkpoint]\u001b[0m \u001b[1mState at the end of step -1:\n",
      "\u001b[0m{'messages': []}\n",
      "\u001b[36;1m\u001b[1;3m[0:tasks]\u001b[0m \u001b[1mStarting 1 task for step 0:\n",
      "\u001b[0m- \u001b[32;1m\u001b[1;3m__start__\u001b[0m -> {'messages': [('human', 'what is the value of magic_function(3)?')]}\n",
      "\u001b[36;1m\u001b[1;3m[0:writes]\u001b[0m \u001b[1mFinished step 0 with writes to 1 channel:\n",
      "\u001b[0m- \u001b[33;1m\u001b[1;3mmessages\u001b[0m -> [('human', 'what is the value of magic_function(3)?')]\n",
      "\u001b[36;1m\u001b[1;3m[0:checkpoint]\u001b[0m \u001b[1mState at the end of step 0:\n",
      "\u001b[0m{'messages': [HumanMessage(content='what is the value of magic_function(3)?', additional_kwargs={}, response_metadata={}, id='7573b349-2388-4157-987b-e803f37bded6')]}\n",
      "\u001b[36;1m\u001b[1;3m[1:tasks]\u001b[0m \u001b[1mStarting 1 task for step 1:\n",
      "\u001b[0m- \u001b[32;1m\u001b[1;3magent\u001b[0m -> {'is_last_step': False,\n",
      " 'messages': [HumanMessage(content='what is the value of magic_function(3)?', additional_kwargs={}, response_metadata={}, id='7573b349-2388-4157-987b-e803f37bded6')],\n",
      " 'remaining_steps': 24}\n",
      "\u001b[36;1m\u001b[1;3m[1:writes]\u001b[0m \u001b[1mFinished step 1 with writes to 1 channel:\n",
      "\u001b[0m- \u001b[33;1m\u001b[1;3mmessages\u001b[0m -> [AIMessage(content='', additional_kwargs={'tool_calls': [{'id': 'call_DJpgsvhbZgzdU2lqgou0o0sH', 'function': {'arguments': '{\"input\":3}', 'name': 'magic_function'}, 'type': 'function'}], 'refusal': None}, response_metadata={'token_usage': {'completion_tokens': 15, 'prompt_tokens': 55, 'total_tokens': 70, 'completion_tokens_details': {'accepted_prediction_tokens': 0, 'audio_tokens': 0, 'reasoning_tokens': 0, 'rejected_prediction_tokens': 0}, 'prompt_tokens_details': {'audio_tokens': 0, 'cached_tokens': 0}}, 'model_name': 'gpt-4o-2024-08-06', 'system_fingerprint': 'fp_d28bcae782', 'finish_reason': 'tool_calls', 'logprobs': None}, id='run-63fe9adf-df41-48d9-b51e-464c451a54c2-0', tool_calls=[{'name': 'magic_function', 'args': {'input': 3}, 'id': 'call_DJpgsvhbZgzdU2lqgou0o0sH', 'type': 'tool_call'}], usage_metadata={'input_tokens': 55, 'output_tokens': 15, 'total_tokens': 70, 'input_token_details': {'audio': 0, 'cache_read': 0}, 'output_token_details': {'audio': 0, 'reasoning': 0}})]\n",
      "\u001b[36;1m\u001b[1;3m[1:checkpoint]\u001b[0m \u001b[1mState at the end of step 1:\n",
      "\u001b[0m{'messages': [HumanMessage(content='what is the value of magic_function(3)?', additional_kwargs={}, response_metadata={}, id='7573b349-2388-4157-987b-e803f37bded6'),\n",
      "              AIMessage(content='', additional_kwargs={'tool_calls': [{'id': 'call_DJpgsvhbZgzdU2lqgou0o0sH', 'function': {'arguments': '{\"input\":3}', 'name': 'magic_function'}, 'type': 'function'}], 'refusal': None}, response_metadata={'token_usage': {'completion_tokens': 15, 'prompt_tokens': 55, 'total_tokens': 70, 'completion_tokens_details': {'accepted_prediction_tokens': 0, 'audio_tokens': 0, 'reasoning_tokens': 0, 'rejected_prediction_tokens': 0}, 'prompt_tokens_details': {'audio_tokens': 0, 'cached_tokens': 0}}, 'model_name': 'gpt-4o-2024-08-06', 'system_fingerprint': 'fp_d28bcae782', 'finish_reason': 'tool_calls', 'logprobs': None}, id='run-63fe9adf-df41-48d9-b51e-464c451a54c2-0', tool_calls=[{'name': 'magic_function', 'args': {'input': 3}, 'id': 'call_DJpgsvhbZgzdU2lqgou0o0sH', 'type': 'tool_call'}], usage_metadata={'input_tokens': 55, 'output_tokens': 15, 'total_tokens': 70, 'input_token_details': {'audio': 0, 'cache_read': 0}, 'output_token_details': {'audio': 0, 'reasoning': 0}})]}\n",
      "\u001b[36;1m\u001b[1;3m[2:tasks]\u001b[0m \u001b[1mStarting 1 task for step 2:\n",
      "\u001b[0m- \u001b[32;1m\u001b[1;3mtools\u001b[0m -> {'is_last_step': False,\n",
      " 'messages': [HumanMessage(content='what is the value of magic_function(3)?', additional_kwargs={}, response_metadata={}, id='7573b349-2388-4157-987b-e803f37bded6'),\n",
      "              AIMessage(content='', additional_kwargs={'tool_calls': [{'id': 'call_DJpgsvhbZgzdU2lqgou0o0sH', 'function': {'arguments': '{\"input\":3}', 'name': 'magic_function'}, 'type': 'function'}], 'refusal': None}, response_metadata={'token_usage': {'completion_tokens': 15, 'prompt_tokens': 55, 'total_tokens': 70, 'completion_tokens_details': {'accepted_prediction_tokens': 0, 'audio_tokens': 0, 'reasoning_tokens': 0, 'rejected_prediction_tokens': 0}, 'prompt_tokens_details': {'audio_tokens': 0, 'cached_tokens': 0}}, 'model_name': 'gpt-4o-2024-08-06', 'system_fingerprint': 'fp_d28bcae782', 'finish_reason': 'tool_calls', 'logprobs': None}, id='run-63fe9adf-df41-48d9-b51e-464c451a54c2-0', tool_calls=[{'name': 'magic_function', 'args': {'input': 3}, 'id': 'call_DJpgsvhbZgzdU2lqgou0o0sH', 'type': 'tool_call'}], usage_metadata={'input_tokens': 55, 'output_tokens': 15, 'total_tokens': 70, 'input_token_details': {'audio': 0, 'cache_read': 0}, 'output_token_details': {'audio': 0, 'reasoning': 0}})],\n",
      " 'remaining_steps': 23}\n",
      "\u001b[36;1m\u001b[1;3m[2:writes]\u001b[0m \u001b[1mFinished step 2 with writes to 1 channel:\n",
      "\u001b[0m- \u001b[33;1m\u001b[1;3mmessages\u001b[0m -> [ToolMessage(content='5', name='magic_function', tool_call_id='call_DJpgsvhbZgzdU2lqgou0o0sH')]\n",
      "\u001b[36;1m\u001b[1;3m[2:checkpoint]\u001b[0m \u001b[1mState at the end of step 2:\n",
      "\u001b[0m{'messages': [HumanMessage(content='what is the value of magic_function(3)?', additional_kwargs={}, response_metadata={}, id='7573b349-2388-4157-987b-e803f37bded6'),\n",
      "              AIMessage(content='', additional_kwargs={'tool_calls': [{'id': 'call_DJpgsvhbZgzdU2lqgou0o0sH', 'function': {'arguments': '{\"input\":3}', 'name': 'magic_function'}, 'type': 'function'}], 'refusal': None}, response_metadata={'token_usage': {'completion_tokens': 15, 'prompt_tokens': 55, 'total_tokens': 70, 'completion_tokens_details': {'accepted_prediction_tokens': 0, 'audio_tokens': 0, 'reasoning_tokens': 0, 'rejected_prediction_tokens': 0}, 'prompt_tokens_details': {'audio_tokens': 0, 'cached_tokens': 0}}, 'model_name': 'gpt-4o-2024-08-06', 'system_fingerprint': 'fp_d28bcae782', 'finish_reason': 'tool_calls', 'logprobs': None}, id='run-63fe9adf-df41-48d9-b51e-464c451a54c2-0', tool_calls=[{'name': 'magic_function', 'args': {'input': 3}, 'id': 'call_DJpgsvhbZgzdU2lqgou0o0sH', 'type': 'tool_call'}], usage_metadata={'input_tokens': 55, 'output_tokens': 15, 'total_tokens': 70, 'input_token_details': {'audio': 0, 'cache_read': 0}, 'output_token_details': {'audio': 0, 'reasoning': 0}}),\n",
      "              ToolMessage(content='5', name='magic_function', id='efe4eebe-8131-4d7a-ae06-99bc69b139e4', tool_call_id='call_DJpgsvhbZgzdU2lqgou0o0sH')]}\n",
      "\u001b[36;1m\u001b[1;3m[3:tasks]\u001b[0m \u001b[1mStarting 1 task for step 3:\n",
      "\u001b[0m- \u001b[32;1m\u001b[1;3magent\u001b[0m -> {'is_last_step': False,\n",
      " 'messages': [HumanMessage(content='what is the value of magic_function(3)?', additional_kwargs={}, response_metadata={}, id='7573b349-2388-4157-987b-e803f37bded6'),\n",
      "              AIMessage(content='', additional_kwargs={'tool_calls': [{'id': 'call_DJpgsvhbZgzdU2lqgou0o0sH', 'function': {'arguments': '{\"input\":3}', 'name': 'magic_function'}, 'type': 'function'}], 'refusal': None}, response_metadata={'token_usage': {'completion_tokens': 15, 'prompt_tokens': 55, 'total_tokens': 70, 'completion_tokens_details': {'accepted_prediction_tokens': 0, 'audio_tokens': 0, 'reasoning_tokens': 0, 'rejected_prediction_tokens': 0}, 'prompt_tokens_details': {'audio_tokens': 0, 'cached_tokens': 0}}, 'model_name': 'gpt-4o-2024-08-06', 'system_fingerprint': 'fp_d28bcae782', 'finish_reason': 'tool_calls', 'logprobs': None}, id='run-63fe9adf-df41-48d9-b51e-464c451a54c2-0', tool_calls=[{'name': 'magic_function', 'args': {'input': 3}, 'id': 'call_DJpgsvhbZgzdU2lqgou0o0sH', 'type': 'tool_call'}], usage_metadata={'input_tokens': 55, 'output_tokens': 15, 'total_tokens': 70, 'input_token_details': {'audio': 0, 'cache_read': 0}, 'output_token_details': {'audio': 0, 'reasoning': 0}}),\n",
      "              ToolMessage(content='5', name='magic_function', id='efe4eebe-8131-4d7a-ae06-99bc69b139e4', tool_call_id='call_DJpgsvhbZgzdU2lqgou0o0sH')],\n",
      " 'remaining_steps': 22}\n",
      "\u001b[36;1m\u001b[1;3m[3:writes]\u001b[0m \u001b[1mFinished step 3 with writes to 1 channel:\n",
      "\u001b[0m- \u001b[33;1m\u001b[1;3mmessages\u001b[0m -> [AIMessage(content='The value of `magic_function(3)` is 5.', additional_kwargs={'refusal': None}, response_metadata={'token_usage': {'completion_tokens': 15, 'prompt_tokens': 78, 'total_tokens': 93, 'completion_tokens_details': {'accepted_prediction_tokens': 0, 'audio_tokens': 0, 'reasoning_tokens': 0, 'rejected_prediction_tokens': 0}, 'prompt_tokens_details': {'audio_tokens': 0, 'cached_tokens': 0}}, 'model_name': 'gpt-4o-2024-08-06', 'system_fingerprint': 'fp_d28bcae782', 'finish_reason': 'stop', 'logprobs': None}, id='run-b07750f8-b897-4c29-a001-6656ad74e9a4-0', usage_metadata={'input_tokens': 78, 'output_tokens': 15, 'total_tokens': 93, 'input_token_details': {'audio': 0, 'cache_read': 0}, 'output_token_details': {'audio': 0, 'reasoning': 0}})]\n",
      "\u001b[36;1m\u001b[1;3m[3:checkpoint]\u001b[0m \u001b[1mState at the end of step 3:\n",
      "\u001b[0m{'messages': [HumanMessage(content='what is the value of magic_function(3)?', additional_kwargs={}, response_metadata={}, id='7573b349-2388-4157-987b-e803f37bded6'),\n",
      "              AIMessage(content='', additional_kwargs={'tool_calls': [{'id': 'call_DJpgsvhbZgzdU2lqgou0o0sH', 'function': {'arguments': '{\"input\":3}', 'name': 'magic_function'}, 'type': 'function'}], 'refusal': None}, response_metadata={'token_usage': {'completion_tokens': 15, 'prompt_tokens': 55, 'total_tokens': 70, 'completion_tokens_details': {'accepted_prediction_tokens': 0, 'audio_tokens': 0, 'reasoning_tokens': 0, 'rejected_prediction_tokens': 0}, 'prompt_tokens_details': {'audio_tokens': 0, 'cached_tokens': 0}}, 'model_name': 'gpt-4o-2024-08-06', 'system_fingerprint': 'fp_d28bcae782', 'finish_reason': 'tool_calls', 'logprobs': None}, id='run-63fe9adf-df41-48d9-b51e-464c451a54c2-0', tool_calls=[{'name': 'magic_function', 'args': {'input': 3}, 'id': 'call_DJpgsvhbZgzdU2lqgou0o0sH', 'type': 'tool_call'}], usage_metadata={'input_tokens': 55, 'output_tokens': 15, 'total_tokens': 70, 'input_token_details': {'audio': 0, 'cache_read': 0}, 'output_token_details': {'audio': 0, 'reasoning': 0}}),\n",
      "              ToolMessage(content='5', name='magic_function', id='efe4eebe-8131-4d7a-ae06-99bc69b139e4', tool_call_id='call_DJpgsvhbZgzdU2lqgou0o0sH'),\n",
      "              AIMessage(content='The value of `magic_function(3)` is 5.', additional_kwargs={'refusal': None}, response_metadata={'token_usage': {'completion_tokens': 15, 'prompt_tokens': 78, 'total_tokens': 93, 'completion_tokens_details': {'accepted_prediction_tokens': 0, 'audio_tokens': 0, 'reasoning_tokens': 0, 'rejected_prediction_tokens': 0}, 'prompt_tokens_details': {'audio_tokens': 0, 'cached_tokens': 0}}, 'model_name': 'gpt-4o-2024-08-06', 'system_fingerprint': 'fp_d28bcae782', 'finish_reason': 'stop', 'logprobs': None}, id='run-b07750f8-b897-4c29-a001-6656ad74e9a4-0', usage_metadata={'input_tokens': 78, 'output_tokens': 15, 'total_tokens': 93, 'input_token_details': {'audio': 0, 'cache_read': 0}, 'output_token_details': {'audio': 0, 'reasoning': 0}})]}\n"
     ]
    },
    {
     "data": {
      "text/plain": [
       "{'messages': [HumanMessage(content='what is the value of magic_function(3)?', additional_kwargs={}, response_metadata={}, id='7573b349-2388-4157-987b-e803f37bded6'),\n",
       "  AIMessage(content='', additional_kwargs={'tool_calls': [{'id': 'call_DJpgsvhbZgzdU2lqgou0o0sH', 'function': {'arguments': '{\"input\":3}', 'name': 'magic_function'}, 'type': 'function'}], 'refusal': None}, response_metadata={'token_usage': {'completion_tokens': 15, 'prompt_tokens': 55, 'total_tokens': 70, 'completion_tokens_details': {'accepted_prediction_tokens': 0, 'audio_tokens': 0, 'reasoning_tokens': 0, 'rejected_prediction_tokens': 0}, 'prompt_tokens_details': {'audio_tokens': 0, 'cached_tokens': 0}}, 'model_name': 'gpt-4o-2024-08-06', 'system_fingerprint': 'fp_d28bcae782', 'finish_reason': 'tool_calls', 'logprobs': None}, id='run-63fe9adf-df41-48d9-b51e-464c451a54c2-0', tool_calls=[{'name': 'magic_function', 'args': {'input': 3}, 'id': 'call_DJpgsvhbZgzdU2lqgou0o0sH', 'type': 'tool_call'}], usage_metadata={'input_tokens': 55, 'output_tokens': 15, 'total_tokens': 70, 'input_token_details': {'audio': 0, 'cache_read': 0}, 'output_token_details': {'audio': 0, 'reasoning': 0}}),\n",
       "  ToolMessage(content='5', name='magic_function', id='efe4eebe-8131-4d7a-ae06-99bc69b139e4', tool_call_id='call_DJpgsvhbZgzdU2lqgou0o0sH'),\n",
       "  AIMessage(content='The value of `magic_function(3)` is 5.', additional_kwargs={'refusal': None}, response_metadata={'token_usage': {'completion_tokens': 15, 'prompt_tokens': 78, 'total_tokens': 93, 'completion_tokens_details': {'accepted_prediction_tokens': 0, 'audio_tokens': 0, 'reasoning_tokens': 0, 'rejected_prediction_tokens': 0}, 'prompt_tokens_details': {'audio_tokens': 0, 'cached_tokens': 0}}, 'model_name': 'gpt-4o-2024-08-06', 'system_fingerprint': 'fp_d28bcae782', 'finish_reason': 'stop', 'logprobs': None}, id='run-b07750f8-b897-4c29-a001-6656ad74e9a4-0', usage_metadata={'input_tokens': 78, 'output_tokens': 15, 'total_tokens': 93, 'input_token_details': {'audio': 0, 'cache_read': 0}, 'output_token_details': {'audio': 0, 'reasoning': 0}})]}"
      ]
     },
     "execution_count": 11,
     "metadata": {},
     "output_type": "execute_result"
    }
   ],
   "source": [
    "from langchain_core.tools import tool\n",
    "from langchain_openai import ChatOpenAI\n",
    "from langgraph.prebuilt import create_react_agent\n",
    "from langchain.memory import ConversationBufferWindowMemory\n",
    "from pydantic import BaseModel, Field\n",
    "\n",
    "class TalkFormat(BaseModel):\n",
    "    speak: str = Field(..., description=\"マネージャーや視聴者に対する発言\")\n",
    "    emotion: str = Field(..., description=\"現在の感情\")\n",
    "\n",
    "# モデルの準備\n",
    "model = ChatOpenAI(model=\"gpt-4o\")\n",
    "\n",
    "# ツールの準備\n",
    "@tool\n",
    "def magic_function(input: int) -> int:\n",
    "    \"\"\"Applies a magic function to an input.\"\"\"\n",
    "    return input + 2\n",
    "\n",
    "tools = [magic_function]\n",
    "\n",
    "# クエリの準備\n",
    "query = \"what is the value of magic_function(3)?\"\n",
    "\n",
    "# ReactAgentExecutorの準備\n",
    "app = create_react_agent(model, tools, debug=True)\n",
    "\n",
    "# ReactAgentExecutorの実行\n",
    "messages = app.invoke({\"messages\": [(\"human\", query)]})\n",
    "\n",
    "# {\n",
    "#     \"input\": query,\n",
    "#     \"output\": messages[\"messages\"][-1].content,\n",
    "# }\n",
    "messages"
   ]
  }
 ],
 "metadata": {
  "kernelspec": {
   "display_name": "ai_tuber",
   "language": "python",
   "name": "python3"
  },
  "language_info": {
   "codemirror_mode": {
    "name": "ipython",
    "version": 3
   },
   "file_extension": ".py",
   "mimetype": "text/x-python",
   "name": "python",
   "nbconvert_exporter": "python",
   "pygments_lexer": "ipython3",
   "version": "3.12.8"
  }
 },
 "nbformat": 4,
 "nbformat_minor": 2
}
