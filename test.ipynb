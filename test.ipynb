{
 "cells": [
  {
   "cell_type": "markdown",
   "metadata": {},
   "source": [
    "Anaconda: ai_tuber\n",
    "```\n",
    "conda activate ai_tuber\n",
    "```"
   ]
  },
  {
   "cell_type": "markdown",
   "metadata": {},
   "source": [
    "# Test1\n",
    "LangChainでマルチエージェントシステムを作る基礎的な評価\n",
    "```\n",
    "pip install langchain\n",
    "pip install langchain_openai\n",
    "pip install langchain_google_genai\n",
    "pip install langgraph\n",
    "pip install google-generativeai\n",
    "pip install python-dotenv\n",
    "pip install browser-use\n",
    "playwright install\n",
    "```"
   ]
  },
  {
   "cell_type": "code",
   "execution_count": null,
   "metadata": {},
   "outputs": [
    {
     "name": "stderr",
     "output_type": "stream",
     "text": [
      "c:\\Users\\hirek\\anaconda3\\envs\\ai_tuber\\Lib\\site-packages\\tqdm\\auto.py:21: TqdmWarning: IProgress not found. Please update jupyter and ipywidgets. See https://ipywidgets.readthedocs.io/en/stable/user_install.html\n",
      "  from .autonotebook import tqdm as notebook_tqdm\n"
     ]
    },
    {
     "name": "stdout",
     "output_type": "stream",
     "text": [
      "ユーザーは文章の誤字脱字の修正を求めている。\n",
      "提示された文章は「こんんんちわ、真純です。」。\n",
      "明らかな誤字は「こんんんちわ」の部分。\n",
      "正しくは「こんにちは」である。\n",
      "句読点や名前の部分に誤りはない。\n"
     ]
    }
   ],
   "source": [
    "from dotenv import load_dotenv\n",
    "load_dotenv()\n",
    "from langchain_google_genai import ChatGoogleGenerativeAI\n",
    "from langchain_openai import ChatOpenAI\n",
    "from langchain_core.output_parsers import StrOutputParser\n",
    "from langchain_core.prompts import ChatPromptTemplate\n",
    "\n",
    "# テンプレート文章を定義し、プロンプトを作成\n",
    "prompt = ChatPromptTemplate.from_messages([\n",
    "    (\"system\", \"あなたは優秀な校正者です。\"),\n",
    "    (\"user\", \"次の文章に誤字があれば訂正してください。\\n{sentences_before_check}\")\n",
    "])\n",
    "\n",
    "llm = ChatGoogleGenerativeAI(model=\"gemini-2.0-flash-thinking-exp-1219\", temperature=0.7)\n",
    "\n",
    "# OpenAIのAPIにこのプロンプトを送信するためのチェーンを作成\n",
    "chain = prompt | llm | StrOutputParser()\n",
    "\n",
    "# チェーンを実行し、結果を表示\n",
    "print(chain.invoke({\"sentences_before_check\": \"こんんんちわ、真純です。\"}))"
   ]
  },
  {
   "cell_type": "code",
   "execution_count": 1,
   "metadata": {},
   "outputs": [
    {
     "ename": "AttributeError",
     "evalue": "'str' object has no attribute 'messages'",
     "output_type": "error",
     "traceback": [
      "\u001b[1;31m---------------------------------------------------------------------------\u001b[0m",
      "\u001b[1;31mAttributeError\u001b[0m                            Traceback (most recent call last)",
      "Cell \u001b[1;32mIn[1], line 33\u001b[0m\n\u001b[0;32m     25\u001b[0m formatted_prompt \u001b[38;5;241m=\u001b[39m template\u001b[38;5;241m.\u001b[39mformat(\n\u001b[0;32m     26\u001b[0m     question\u001b[38;5;241m=\u001b[39m\u001b[38;5;124m\"\u001b[39m\u001b[38;5;124mpythonでリストをソートするには？\u001b[39m\u001b[38;5;124m\"\u001b[39m,\n\u001b[0;32m     27\u001b[0m     answer\u001b[38;5;241m=\u001b[39m\u001b[38;5;124m\"\u001b[39m\u001b[38;5;124msorted()関数または.sort()メソッドを使用します\u001b[39m\u001b[38;5;124m\"\u001b[39m,\n\u001b[0;32m     28\u001b[0m     explanation\u001b[38;5;241m=\u001b[39m\u001b[38;5;124m\"\u001b[39m\u001b[38;5;124m- sorted()は新しいリストを返します\u001b[39m\u001b[38;5;130;01m\\n\u001b[39;00m\u001b[38;5;124m- .sort()は元のリストを変更します\u001b[39m\u001b[38;5;124m\"\u001b[39m,\n\u001b[0;32m     29\u001b[0m     code_example\u001b[38;5;241m=\u001b[39m\u001b[38;5;124m\"\u001b[39m\u001b[38;5;124mnumbers = [3, 1, 4, 1, 5]\u001b[39m\u001b[38;5;130;01m\\n\u001b[39;00m\u001b[38;5;124msorted_numbers = sorted(numbers)  # 新しいリスト\u001b[39m\u001b[38;5;130;01m\\n\u001b[39;00m\u001b[38;5;124mnumbers.sort()  # 元のリストを変更\u001b[39m\u001b[38;5;124m\"\u001b[39m\n\u001b[0;32m     30\u001b[0m )\n\u001b[0;32m     32\u001b[0m \u001b[38;5;66;03m# 生成されたメッセージの確認\u001b[39;00m\n\u001b[1;32m---> 33\u001b[0m \u001b[38;5;28mprint\u001b[39m(\u001b[43mformatted_prompt\u001b[49m\u001b[38;5;241;43m.\u001b[39;49m\u001b[43mmessages\u001b[49m)\n",
      "\u001b[1;31mAttributeError\u001b[0m: 'str' object has no attribute 'messages'"
     ]
    }
   ],
   "source": [
    "from langchain.prompts import ChatPromptTemplate, SystemMessagePromptTemplate, HumanMessagePromptTemplate\n",
    "from langchain.schema import HumanMessage, SystemMessage\n",
    "\n",
    "# チャットテンプレートの定義\n",
    "template = ChatPromptTemplate.from_messages([\n",
    "    SystemMessagePromptTemplate.from_template(\n",
    "        \"\"\"命令：以下のフォーマットで回答を作成してください。\n",
    "\n",
    "        # 回答\n",
    "        {answer}\n",
    "\n",
    "        ## 理由\n",
    "        {explanation}\n",
    "\n",
    "        ## コード例（必要な場合）\n",
    "        ```python\n",
    "        {code_example}\n",
    "        ```\n",
    "        \"\"\"\n",
    "    ),\n",
    "    HumanMessagePromptTemplate.from_template(\"{question}\")\n",
    "])\n",
    "\n",
    "# フォーマット済みプロンプトの生成\n",
    "formatted_prompt = template.format(\n",
    "    question=\"pythonでリストをソートするには？\",\n",
    "    answer=\"sorted()関数または.sort()メソッドを使用します\",\n",
    "    explanation=\"- sorted()は新しいリストを返します\\n- .sort()は元のリストを変更します\",\n",
    "    code_example=\"numbers = [3, 1, 4, 1, 5]\\nsorted_numbers = sorted(numbers)  # 新しいリスト\\nnumbers.sort()  # 元のリストを変更\"\n",
    ")\n",
    "\n",
    "# 生成されたメッセージの確認\n",
    "print(formatted_prompt.messages)"
   ]
  }
 ],
 "metadata": {
  "kernelspec": {
   "display_name": "ai_tuber",
   "language": "python",
   "name": "python3"
  },
  "language_info": {
   "codemirror_mode": {
    "name": "ipython",
    "version": 3
   },
   "file_extension": ".py",
   "mimetype": "text/x-python",
   "name": "python",
   "nbconvert_exporter": "python",
   "pygments_lexer": "ipython3",
   "version": "3.12.8"
  }
 },
 "nbformat": 4,
 "nbformat_minor": 2
}
